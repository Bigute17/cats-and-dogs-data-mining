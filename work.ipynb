{
 "cells": [
  {
   "cell_type": "markdown",
   "metadata": {},
   "source": [
    "### Importing Libraries"
   ]
  },
  {
   "cell_type": "code",
   "execution_count": 2,
   "metadata": {},
   "outputs": [
    {
     "name": "stderr",
     "output_type": "stream",
     "text": [
      "2022-12-14 15:05:16.666476: I tensorflow/core/platform/cpu_feature_guard.cc:193] This TensorFlow binary is optimized with oneAPI Deep Neural Network Library (oneDNN) to use the following CPU instructions in performance-critical operations:  AVX2 FMA\n",
      "To enable them in other operations, rebuild TensorFlow with the appropriate compiler flags.\n"
     ]
    }
   ],
   "source": [
    "import numpy as np\n",
    "import pandas as pd\n",
    "from pathlib import Path\n",
    "import os.path\n",
    "import matplotlib.pyplot as plt\n",
    "import seaborn as sns\n",
    "from sklearn.model_selection import train_test_split\n",
    "import tensorflow as tf\n",
    "from sklearn.metrics import confusion_matrix, classification_report\n",
    "import shutil\n",
    "import random"
   ]
  },
  {
   "cell_type": "markdown",
   "metadata": {},
   "source": [
    "### Creating new folders for respective classes"
   ]
  },
  {
   "cell_type": "code",
   "execution_count": null,
   "metadata": {},
   "outputs": [],
   "source": [
    "\n",
    "os.mkdir('dogs-vs-cats/images/cat')\n",
    "os.mkdir('dogs-vs-cats/images/dog')\n",
    "\n",
    "folder = 'dogs-vs-cats/images/'\n",
    "\n",
    "for file in os.listdir(folder):\n",
    "    if file.startswith('cat.'):\n",
    "        shutil.move(folder + file, folder + 'cat')\n",
    "    elif file.startswith('dog.'):\n",
    "        shutil.move(folder + file, folder + 'dog')\n",
    "        \n"
   ]
  },
  {
   "cell_type": "markdown",
   "metadata": {},
   "source": [
    "### Removing images"
   ]
  },
  {
   "cell_type": "code",
   "execution_count": 14,
   "metadata": {},
   "outputs": [],
   "source": [
    "files = os.listdir('dogs-vs-cats/images/cat')\n",
    "for file in random.sample(files,12000):\n",
    "    os.remove('dogs-vs-cats/images/cat/' + file)\n",
    "\n",
    "files = os.listdir('dogs-vs-cats/images/dog')\n",
    "for file in random.sample(files,12000):\n",
    "    os.remove('dogs-vs-cats/images/dog/' + file)\n",
    "    \n"
   ]
  },
  {
   "cell_type": "markdown",
   "metadata": {},
   "source": [
    "### Set image directory"
   ]
  },
  {
   "cell_type": "code",
   "execution_count": 3,
   "metadata": {},
   "outputs": [],
   "source": [
    "image_dir = Path('../cats-and-dogs-data-mining/dogs-vs-cats/images/')"
   ]
  },
  {
   "cell_type": "markdown",
   "metadata": {},
   "source": [
    "### Create filepath dataframe"
   ]
  },
  {
   "cell_type": "code",
   "execution_count": 4,
   "metadata": {},
   "outputs": [],
   "source": [
    "filepaths = list(image_dir.glob(r'**/*.jpg')) #find all .jpg files within the current folder\n",
    "labels = list(map(lambda x: os.path.split(os.path.split(x)[0])[1], filepaths)) #how we pull labels\n",
    "\n",
    "filepaths = pd.Series(filepaths, name = 'Filepath').astype(str)\n",
    "labels = pd.Series(labels, name = 'Label')\n",
    "\n",
    "image_df = pd.concat([filepaths, labels], axis = 1)"
   ]
  },
  {
   "cell_type": "markdown",
   "metadata": {},
   "source": [
    "### Train-Test Split"
   ]
  },
  {
   "cell_type": "code",
   "execution_count": 5,
   "metadata": {},
   "outputs": [],
   "source": [
    "train_df, test_df = train_test_split(image_df, train_size = 0.7, shuffle = True, random_state = 1)"
   ]
  },
  {
   "cell_type": "markdown",
   "metadata": {},
   "source": [
    "### Load Image Data"
   ]
  },
  {
   "cell_type": "code",
   "execution_count": 6,
   "metadata": {},
   "outputs": [],
   "source": [
    "# Allows us to load a subset of images at a time, train them and recycle the memory so we don't run out\n",
    "train_generator = tf.keras.preprocessing.image.ImageDataGenerator(\n",
    "    rescale = 1./255, # scale pixel intensity values from 0 - 255 down to 0 - 1\n",
    "    horizontal_flip=True, # Make our model more resilient to horizontally flipped pics\n",
    "    width_shift_range=0.2, # Shift width by 20%\n",
    "    height_shift_range=0.2, # Shift height by 20%\n",
    "    validation_split = 0.2 # Pull train and test images through the same generato\n",
    ")\n",
    "\n",
    "test_generator = tf.keras.preprocessing.image.ImageDataGenerator(\n",
    "    rescale = 1./255\n",
    ")"
   ]
  },
  {
   "cell_type": "code",
   "execution_count": 7,
   "metadata": {},
   "outputs": [
    {
     "name": "stdout",
     "output_type": "stream",
     "text": [
      "Found 560 validated image filenames belonging to 2 classes.\n",
      "Found 140 validated image filenames belonging to 2 classes.\n",
      "Found 300 validated image filenames belonging to 2 classes.\n"
     ]
    }
   ],
   "source": [
    "# Flow the images (specify how the images will be loaded)\n",
    "train_images = train_generator.flow_from_dataframe(\n",
    "    dataframe = train_df,\n",
    "    x_col=\"Filepath\",\n",
    "    y_col=\"Label\",\n",
    "    target_size = (224,224), # Standardize image size\n",
    "    color_mode='rgb', # Our images are colorized\n",
    "    class_mode='binary', # we have 2 classes only\n",
    "    batch_size = 32, # how many images to load at a time\n",
    "    shuffle = True, # Shuffle for training\n",
    "    seed=42, # makes sure the shuffling is always the same way, and always the same subset\n",
    "    subset = 'training'\n",
    ")\n",
    "\n",
    "val_images = train_generator.flow_from_dataframe(\n",
    "    dataframe = train_df,\n",
    "    x_col=\"Filepath\",\n",
    "    y_col=\"Label\",\n",
    "    target_size = (224,224), # Standardize image size\n",
    "    color_mode='rgb', # Our images are colorized\n",
    "    class_mode='binary', # we have 2 classes only\n",
    "    batch_size = 32, # how many images to load at a time\n",
    "    shuffle = True, # Shuffle for training\n",
    "    seed=42, # makes sure the shuffling is always the same way, and always the same subset\n",
    "    subset = 'validation'\n",
    ")\n",
    "\n",
    "test_images = train_generator.flow_from_dataframe(\n",
    "    dataframe = test_df,\n",
    "    x_col=\"Filepath\",\n",
    "    y_col=\"Label\",\n",
    "    target_size = (224,224), # Standardize image size\n",
    "    color_mode='rgb', # Our images are colorized\n",
    "    class_mode='binary', # we have 2 classes only\n",
    "    batch_size = 32, # how many images to load at a time\n",
    "    shuffle = False, # False since we are only evaluating, not training\n",
    ")"
   ]
  },
  {
   "cell_type": "markdown",
   "metadata": {},
   "source": [
    "### Model Training"
   ]
  },
  {
   "cell_type": "code",
   "execution_count": 8,
   "metadata": {},
   "outputs": [
    {
     "name": "stderr",
     "output_type": "stream",
     "text": [
      "2022-12-14 15:06:17.098489: I tensorflow/core/platform/cpu_feature_guard.cc:193] This TensorFlow binary is optimized with oneAPI Deep Neural Network Library (oneDNN) to use the following CPU instructions in performance-critical operations:  AVX2 FMA\n",
      "To enable them in other operations, rebuild TensorFlow with the appropriate compiler flags.\n"
     ]
    },
    {
     "name": "stdout",
     "output_type": "stream",
     "text": [
      "Epoch 1/100\n",
      "18/18 [==============================] - 19s 960ms/step - loss: 0.6934 - accuracy: 0.5036 - val_loss: 0.6905 - val_accuracy: 0.5071 - lr: 0.0010\n",
      "Epoch 2/100\n",
      "18/18 [==============================] - 16s 878ms/step - loss: 0.6911 - accuracy: 0.5000 - val_loss: 0.6890 - val_accuracy: 0.5071 - lr: 0.0010\n",
      "Epoch 3/100\n",
      "18/18 [==============================] - 19s 1s/step - loss: 0.6904 - accuracy: 0.5304 - val_loss: 0.6856 - val_accuracy: 0.5143 - lr: 0.0010\n",
      "Epoch 4/100\n",
      "18/18 [==============================] - 16s 874ms/step - loss: 0.6867 - accuracy: 0.5179 - val_loss: 0.6801 - val_accuracy: 0.6500 - lr: 0.0010\n",
      "Epoch 5/100\n",
      "18/18 [==============================] - 16s 889ms/step - loss: 0.6831 - accuracy: 0.5500 - val_loss: 0.6796 - val_accuracy: 0.5857 - lr: 0.0010\n",
      "Epoch 6/100\n",
      "18/18 [==============================] - 16s 869ms/step - loss: 0.6763 - accuracy: 0.5696 - val_loss: 0.6751 - val_accuracy: 0.6071 - lr: 0.0010\n",
      "Epoch 7/100\n",
      "18/18 [==============================] - 16s 895ms/step - loss: 0.6682 - accuracy: 0.5821 - val_loss: 0.6686 - val_accuracy: 0.5857 - lr: 0.0010\n",
      "Epoch 8/100\n",
      "18/18 [==============================] - 16s 859ms/step - loss: 0.6759 - accuracy: 0.5625 - val_loss: 0.6868 - val_accuracy: 0.5571 - lr: 0.0010\n",
      "Epoch 9/100\n",
      "18/18 [==============================] - 16s 871ms/step - loss: 0.6779 - accuracy: 0.5429 - val_loss: 0.6518 - val_accuracy: 0.6357 - lr: 0.0010\n",
      "Epoch 10/100\n",
      "18/18 [==============================] - 16s 854ms/step - loss: 0.6596 - accuracy: 0.6143 - val_loss: 0.6326 - val_accuracy: 0.6500 - lr: 0.0010\n",
      "Epoch 11/100\n",
      "18/18 [==============================] - 16s 859ms/step - loss: 0.6543 - accuracy: 0.6036 - val_loss: 0.6366 - val_accuracy: 0.6571 - lr: 0.0010\n",
      "Epoch 12/100\n",
      "18/18 [==============================] - 16s 864ms/step - loss: 0.6571 - accuracy: 0.6250 - val_loss: 0.6393 - val_accuracy: 0.6429 - lr: 0.0010\n",
      "Epoch 13/100\n",
      "18/18 [==============================] - 16s 875ms/step - loss: 0.6424 - accuracy: 0.6518 - val_loss: 0.6241 - val_accuracy: 0.6214 - lr: 0.0010\n",
      "Epoch 14/100\n",
      "18/18 [==============================] - 16s 867ms/step - loss: 0.6448 - accuracy: 0.6196 - val_loss: 0.6251 - val_accuracy: 0.6643 - lr: 0.0010\n",
      "Epoch 15/100\n",
      "18/18 [==============================] - 16s 881ms/step - loss: 0.6339 - accuracy: 0.6571 - val_loss: 0.6365 - val_accuracy: 0.6500 - lr: 0.0010\n",
      "Epoch 16/100\n",
      "18/18 [==============================] - 16s 868ms/step - loss: 0.6352 - accuracy: 0.6125 - val_loss: 0.6327 - val_accuracy: 0.6500 - lr: 0.0010\n",
      "Epoch 17/100\n",
      "18/18 [==============================] - 16s 903ms/step - loss: 0.6300 - accuracy: 0.6286 - val_loss: 0.6353 - val_accuracy: 0.6071 - lr: 1.0000e-04\n",
      "Epoch 18/100\n",
      "18/18 [==============================] - 22s 1s/step - loss: 0.6334 - accuracy: 0.6375 - val_loss: 0.6233 - val_accuracy: 0.6643 - lr: 1.0000e-04\n",
      "Epoch 19/100\n",
      "18/18 [==============================] - 20s 1s/step - loss: 0.6242 - accuracy: 0.6589 - val_loss: 0.6260 - val_accuracy: 0.6143 - lr: 1.0000e-04\n",
      "Epoch 20/100\n",
      "18/18 [==============================] - 18s 1s/step - loss: 0.6281 - accuracy: 0.6518 - val_loss: 0.6145 - val_accuracy: 0.6500 - lr: 1.0000e-04\n",
      "Epoch 21/100\n",
      "18/18 [==============================] - 17s 940ms/step - loss: 0.6213 - accuracy: 0.6589 - val_loss: 0.6319 - val_accuracy: 0.6286 - lr: 1.0000e-04\n",
      "Epoch 22/100\n",
      "18/18 [==============================] - 21s 1s/step - loss: 0.6276 - accuracy: 0.6554 - val_loss: 0.6211 - val_accuracy: 0.6214 - lr: 1.0000e-04\n",
      "Epoch 23/100\n",
      "18/18 [==============================] - 22s 1s/step - loss: 0.6269 - accuracy: 0.6411 - val_loss: 0.6394 - val_accuracy: 0.6214 - lr: 1.0000e-04\n",
      "Epoch 24/100\n",
      "18/18 [==============================] - 19s 1s/step - loss: 0.6238 - accuracy: 0.6589 - val_loss: 0.6287 - val_accuracy: 0.6286 - lr: 1.0000e-05\n",
      "Epoch 25/100\n",
      "18/18 [==============================] - 17s 920ms/step - loss: 0.6237 - accuracy: 0.6518 - val_loss: 0.6227 - val_accuracy: 0.6714 - lr: 1.0000e-05\n"
     ]
    }
   ],
   "source": [
    "inputs = tf.keras.Input(shape=(224, 224, 3)) # One for each color channel\n",
    "# 16 filters, kernal size of 3x3. \n",
    "# The convolutional layer will look at the image, slide a window across the image, and the window\n",
    "# weights will multiply by the pixel values, sum them up, and send that to a new 2D feature\n",
    "# We will end up with a new 2D array with the values. \n",
    "# Filters specify how many times we want to do this full pass over the image.\n",
    "# The kernal size represents how big the window is\n",
    "# The whole point of a Convolutional Neural Network is to extract features that \n",
    "# are useful for predicting\n",
    "# If we were to pass each pixel as an individual feature, the model would be too complex and likely\n",
    "# overfit. Also, there is no way to capture the spatial relationship between the data\n",
    "x = tf.keras.layers.Conv2D(filters=16, kernel_size=(3, 3), activation='relu')(inputs)\n",
    "# maxpool also sends a window across the image, and takes a max of 4 pixels.\n",
    "# allows the next convolutional data to reduce the dimensions of the data and keep the most\n",
    "# important pixels (simplified, high level view of each image)\n",
    "# Each time we maxpool, we lose information, but make it easier for the next layer to grasp\n",
    "# high level relationships in the data\n",
    "x = tf.keras.layers.MaxPool2D()(x)\n",
    "x = tf.keras.layers.Conv2D(filters=32, kernel_size=(3,3), activation = 'relu')(x)\n",
    "x = tf.keras.layers.MaxPool2D()(x)\n",
    "# Average over the first 2 dimensions so that we just end up with 32 features. \n",
    "# These features could be anything like pointy ears for cats, or floppy ears for dogs\n",
    "x = tf.keras.layers.GlobalAveragePooling2D()(x)\n",
    "# create the actual classifier, a 2 hidden layer dense NN\n",
    "x = tf.keras.layers.Dense(128, activation = 'relu')(x)\n",
    "x = tf.keras.layers.Dense(128, activation = 'relu')(x)\n",
    "# outputs is another dense layer with 1 output value and sigmoid activation since\n",
    "# it is a binary classification task\n",
    "# sigmoid gives it the effect of being betweem 0 or 1\n",
    "# so the output is a single prob estimate of the prob that one of the classes is present in the image\n",
    "# In this case, 1 = dog and 0 = cat\n",
    "# So the output is the probability of a dog since that is the positive class\n",
    "outputs = tf.keras.layers.Dense(1, activation=\"sigmoid\")(x)\n",
    "\n",
    "# Create the model\n",
    "model = tf.keras.Model(inputs = inputs, outputs = outputs)\n",
    "\n",
    "# Model compiler with adam optimizer, binary crossentropy loss, and accuracy as the metric\n",
    "model.compile(\n",
    "    optimizer = 'adam',\n",
    "    loss = 'binary_crossentropy',\n",
    "    metrics = ['accuracy']\n",
    ")\n",
    "\n",
    "# 100 epochs with early stopping callback. Early stopping will look at the validation loss so we can\n",
    "# monitor the validation loss, when the val loss has not improved after 5 epochs, it will stop\n",
    "# training and restore the weights from the best epoch\n",
    "# We chose to reduce the learning rate to stabilize model training. Validation loss was fluctuating\n",
    "# a lot previously.\n",
    "history = model.fit(\n",
    "    train_images,\n",
    "    validation_data = val_images,\n",
    "    epochs = 100,\n",
    "    callbacks = [\n",
    "        tf.keras.callbacks.EarlyStopping(\n",
    "            monitor = \"val_loss\",\n",
    "            patience = 5,\n",
    "            restore_best_weights = True\n",
    "        ),\n",
    "        tf.keras.callbacks.ReduceLROnPlateau(\n",
    "            monitor = \"val_loss\",\n",
    "            patience = 3\n",
    "        )\n",
    "    ]\n",
    ")"
   ]
  },
  {
   "attachments": {},
   "cell_type": "markdown",
   "metadata": {},
   "source": [
    "### Evaluation of Results"
   ]
  },
  {
   "cell_type": "code",
   "execution_count": 9,
   "metadata": {},
   "outputs": [
    {
     "name": "stdout",
     "output_type": "stream",
     "text": [
      "    Test Loss: 0.65541\n",
      "Test Accuracy: 63.67\n"
     ]
    }
   ],
   "source": [
    "# Pull our results as a numpy array\n",
    "results = model.evaluate(test_images, verbose = 0) \n",
    "\n",
    "# Display the loss value to 5 decimal places format that with results[0]\n",
    "# The first value returned will be the loss, the second value will be the accuracy.\n",
    "print('    Test Loss: {:.5f}'.format(results[0]))\n",
    "print('Test Accuracy: {:.2f}'.format(results[1] * 100))\n",
    "\n",
    "# About 64% accuracy. Better than randomly guessing!"
   ]
  },
  {
   "cell_type": "code",
   "execution_count": 10,
   "metadata": {},
   "outputs": [
    {
     "name": "stdout",
     "output_type": "stream",
     "text": [
      "10/10 [==============================] - 7s 670ms/step\n"
     ]
    },
    {
     "name": "stderr",
     "output_type": "stream",
     "text": [
      "/var/folders/tb/b14t5svn6qs25f_zj864ykdm0000gn/T/ipykernel_92105/1115919309.py:7: DeprecationWarning: `np.int` is a deprecated alias for the builtin `int`. To silence this warning, use `int` by itself. Doing this will not modify any behavior and is safe. When replacing `np.int`, you may wish to use e.g. `np.int64` or `np.int32` to specify the precision. If you wish to review your current use, check the release note link for additional information.\n",
      "Deprecated in NumPy 1.20; for more details and guidance: https://numpy.org/devdocs/release/1.20.0-notes.html#deprecations\n",
      "  predictions = (model.predict(test_images) >= 0.5).astype(np.int)\n"
     ]
    },
    {
     "data": {
      "image/png": "[encoded data removed]",
      "text/plain": [
       "<Figure size 600x600 with 1 Axes>"
      ]
     },
     "metadata": {},
     "output_type": "display_data"
    },
    {
     "name": "stdout",
     "output_type": "stream",
     "text": [
      "Classification Report:\n",
      "----------------------\n",
      "               precision    recall  f1-score   support\n",
      "\n",
      "         CAT       0.61      0.58      0.60       149\n",
      "         DOG       0.61      0.63      0.62       151\n",
      "\n",
      "    accuracy                           0.61       300\n",
      "   macro avg       0.61      0.61      0.61       300\n",
      "weighted avg       0.61      0.61      0.61       300\n",
      "\n"
     ]
    }
   ],
   "source": [
    "# model.predict returns the probability estimate for the image being a dog\n",
    "# we want the classification, not estimate\n",
    "# so we can predict on the test_images, and for each value check if it is at least 0.5\n",
    "# If the prob is > 0.5, it will classify as a dog \n",
    "# This returns a boolean array for each test image\n",
    "# setting .astype returns 0 or 1 instead of true/false\n",
    "predictions = (model.predict(test_images) >= 0.5).astype(np.int)\n",
    "\n",
    "# Create confusion matrix.\n",
    "# .labels are the actual values for the images\n",
    "# labels ensures that cats come first, then dogs\n",
    "cm = confusion_matrix(test_images.labels, predictions, labels = [0,1])\n",
    "\n",
    "# Create classification report\n",
    "# Pass the same arguments but add target names\n",
    "clr = classification_report(test_images.labels, predictions, labels = [0,1], target_names = [\"CAT\",\"DOG\"])\n",
    "\n",
    "# Create figure size\n",
    "plt.figure(figsize=(6,6))\n",
    "# Seaborn heatmap to plot the confusion matix\n",
    "# annotations on, fmt = g avoids scientific notation\n",
    "# Minimum value is 0, color map set to blues, color bar set to off\n",
    "sns.heatmap(cm, annot = True, fmt = 'g', vmin = 0, cmap = 'Blues', cbar = False)\n",
    "\n",
    "# Add some tick marks\n",
    "# ticks = spacing of the tick marks\n",
    "# Lables should be in the same order as earlier\n",
    "plt.xticks(ticks = [0.5,1.5], labels = [\"CAT\", \"DOG\"])\n",
    "plt.yticks(ticks = [0.5,1.5], labels = [\"CAT\", \"DOG\"])\n",
    "\n",
    "# Setting axis labels\n",
    "plt.xlabel(\"Predicted\")\n",
    "plt.ylabel(\"Actual\")\n",
    "plt.title(\"ConfusionMatrix\")\n",
    "\n",
    "# Show that plot and report\n",
    "plt.show()\n",
    "print(\"Classification Report:\\n----------------------\\n\", clr)\n",
    "\n",
    "# Out of all the actual cats, 58% were predicted correctly\n",
    "# Out of all the actual dogs, 63% were predicted correctly\n"
   ]
  }
 ],
 "metadata": {
  "kernelspec": {
   "display_name": "Python 3.10.6 64-bit",
   "language": "python",
   "name": "python3"
  },
  "language_info": {
   "codemirror_mode": {
    "name": "ipython",
    "version": 3
   },
   "file_extension": ".py",
   "mimetype": "text/x-python",
   "name": "python",
   "nbconvert_exporter": "python",
   "pygments_lexer": "ipython3",
   "version": "3.10.6"
  },
  "orig_nbformat": 4,
  "vscode": {
   "interpreter": {
    "hash": "aee8b7b246df8f9039afb4144a1f6fd8d2ca17a180786b69acc140d282b71a49"
   }
  }
 },
 "nbformat": 4,
 "nbformat_minor": 2
}
